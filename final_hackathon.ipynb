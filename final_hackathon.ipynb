{
 "cells": [
  {
   "cell_type": "markdown",
   "metadata": {
    "id": "TIuwSyyci34q"
   },
   "source": [
    "# Importing libraries"
   ]
  },
  {
   "cell_type": "code",
   "execution_count": 9,
   "metadata": {
    "id": "cv-BVeS9iZQu"
   },
   "outputs": [
    {
     "ename": "ModuleNotFoundError",
     "evalue": "No module named 'tensorflow'",
     "output_type": "error",
     "traceback": [
      "\u001b[0;31m---------------------------------------------------------------------------\u001b[0m",
      "\u001b[0;31mModuleNotFoundError\u001b[0m                       Traceback (most recent call last)",
      "\u001b[0;32m<ipython-input-9-ae79baa1a27a>\u001b[0m in \u001b[0;36m<module>\u001b[0;34m\u001b[0m\n\u001b[1;32m      1\u001b[0m \u001b[0;31m# from google.colab import files\u001b[0m\u001b[0;34m\u001b[0m\u001b[0;34m\u001b[0m\u001b[0;34m\u001b[0m\u001b[0m\n\u001b[1;32m      2\u001b[0m \u001b[0;32mimport\u001b[0m \u001b[0mos\u001b[0m\u001b[0;34m\u001b[0m\u001b[0;34m\u001b[0m\u001b[0m\n\u001b[0;32m----> 3\u001b[0;31m \u001b[0;32mfrom\u001b[0m \u001b[0mtensorflow\u001b[0m\u001b[0;34m.\u001b[0m\u001b[0mkeras\u001b[0m\u001b[0;34m.\u001b[0m\u001b[0mpreprocessing\u001b[0m\u001b[0;34m.\u001b[0m\u001b[0mimage\u001b[0m \u001b[0;32mimport\u001b[0m \u001b[0mload_img\u001b[0m\u001b[0;34m\u001b[0m\u001b[0;34m\u001b[0m\u001b[0m\n\u001b[0m\u001b[1;32m      4\u001b[0m \u001b[0;32mfrom\u001b[0m \u001b[0mtensorflow\u001b[0m\u001b[0;34m.\u001b[0m\u001b[0mkeras\u001b[0m\u001b[0;34m.\u001b[0m\u001b[0mpreprocessing\u001b[0m\u001b[0;34m.\u001b[0m\u001b[0mimage\u001b[0m \u001b[0;32mimport\u001b[0m \u001b[0mimg_to_array\u001b[0m\u001b[0;34m\u001b[0m\u001b[0;34m\u001b[0m\u001b[0m\n\u001b[1;32m      5\u001b[0m \u001b[0;32mimport\u001b[0m \u001b[0mnumpy\u001b[0m \u001b[0;32mas\u001b[0m \u001b[0mnp\u001b[0m\u001b[0;34m\u001b[0m\u001b[0;34m\u001b[0m\u001b[0m\n",
      "\u001b[0;31mModuleNotFoundError\u001b[0m: No module named 'tensorflow'"
     ]
    }
   ],
   "source": [
    "# from google.colab import files\n",
    "import os\n",
    "from tensorflow.keras.preprocessing.image import load_img\n",
    "from tensorflow.keras.preprocessing.image import img_to_array\n",
    "import numpy as np\n",
    "from PIL import Image as Img\n",
    "import cv2\n",
    "from skimage.transform import resize\n",
    "import torch"
   ]
  },
  {
   "cell_type": "code",
   "execution_count": 3,
   "metadata": {},
   "outputs": [
    {
     "name": "stdout",
     "output_type": "stream",
     "text": [
      "Requirement already satisfied: torch in /Library/Frameworks/Python.framework/Versions/3.9/lib/python3.9/site-packages (1.10.2)\r\n",
      "Requirement already satisfied: torchvision in /Library/Frameworks/Python.framework/Versions/3.9/lib/python3.9/site-packages (0.11.3)\r\n",
      "Requirement already satisfied: typing-extensions in /Library/Frameworks/Python.framework/Versions/3.9/lib/python3.9/site-packages (from torch) (4.1.1)\r\n",
      "Requirement already satisfied: numpy in /Library/Frameworks/Python.framework/Versions/3.9/lib/python3.9/site-packages (from torchvision) (1.22.2)\r\n",
      "Requirement already satisfied: pillow!=8.3.0,>=5.3.0 in /Library/Frameworks/Python.framework/Versions/3.9/lib/python3.9/site-packages (from torchvision) (8.1.0)\r\n"
     ]
    }
   ],
   "source": [
    "!pip3 install torch torchvision"
   ]
  },
  {
   "cell_type": "code",
   "execution_count": 4,
   "metadata": {
    "colab": {
     "base_uri": "https://localhost:8080/"
    },
    "id": "ZWB9OOnMiv_c",
    "outputId": "926fec81-7f95-44f8-bb56-3e30e9de8a0f"
   },
   "outputs": [],
   "source": [
    "# print('making images directory')\n",
    "# !mkdir images\n",
    "# print('making results directory')\n",
    "# !mkdir results"
   ]
  },
  {
   "cell_type": "code",
   "execution_count": 5,
   "metadata": {
    "id": "jOxZgOAZi9kv"
   },
   "outputs": [],
   "source": [
    "# import image here"
   ]
  },
  {
   "cell_type": "code",
   "execution_count": 6,
   "metadata": {
    "id": "pBj8XGd7i7uO"
   },
   "outputs": [
    {
     "name": "stdout",
     "output_type": "stream",
     "text": [
      "Traceback (most recent call last):\r\n",
      "  File \"u2net_test.py\", line 3, in <module>\r\n",
      "    import torch\r\n",
      "ModuleNotFoundError: No module named 'torch'\r\n"
     ]
    }
   ],
   "source": [
    "!python -W ignore u2net_test.py"
   ]
  },
  {
   "cell_type": "code",
   "execution_count": 7,
   "metadata": {
    "id": "yQXIQty6jEuT"
   },
   "outputs": [
    {
     "data": {
      "text/plain": [
       "['.DS_S', 'backgro', '2337127678_001']"
      ]
     },
     "execution_count": 7,
     "metadata": {},
     "output_type": "execute_result"
    }
   ],
   "source": [
    "# get the names of the images that were uploaded, removing .jpg\n",
    "image_dir = os.path.join(os.getcwd(), 'images')\n",
    "names = [name[:-4] for name in os.listdir(image_dir)]\n",
    "names"
   ]
  },
  {
   "cell_type": "code",
   "execution_count": 8,
   "metadata": {
    "id": "7SLjwuaIjL45"
   },
   "outputs": [
    {
     "data": {
      "text/plain": [
       "'.DS_S'"
      ]
     },
     "execution_count": 8,
     "metadata": {},
     "output_type": "execute_result"
    }
   ],
   "source": [
    "# this notebook only uses the first of the uploaded images\n",
    "name = names[0]\n",
    "name"
   ]
  },
  {
   "cell_type": "code",
   "execution_count": null,
   "metadata": {
    "id": "GsCMqUpojPuf"
   },
   "outputs": [],
   "source": [
    "# display result that U-2-Net created\n",
    "output = load_img('/content/U-2-Net/results/'+name+'.png')\n",
    "display(output)"
   ]
  },
  {
   "cell_type": "markdown",
   "metadata": {
    "id": "EVpuknPHjYMM"
   },
   "source": [
    "# Background Removal"
   ]
  },
  {
   "cell_type": "code",
   "execution_count": null,
   "metadata": {
    "id": "p0eR_9j4jZ6w"
   },
   "outputs": [],
   "source": [
    "# convert output to numpy array and rescale(255 for RBG images)\n",
    "RESCALE = 255\n",
    "out_img = img_to_array(output)\n",
    "out_img /= RESCALE\n",
    "import matplotlib.pyplot as plt\n",
    "plt.imshow(out_img)"
   ]
  },
  {
   "cell_type": "code",
   "execution_count": 3,
   "metadata": {
    "colab": {
     "base_uri": "https://localhost:8080/",
     "height": 240
    },
    "id": "JRGtMGKjjf6M",
    "outputId": "54331cb8-432c-4f0b-d1e0-48df49bf883c"
   },
   "outputs": [
    {
     "ename": "NameError",
     "evalue": "ignored",
     "output_type": "error",
     "traceback": [
      "\u001b[0;31m---------------------------------------------------------------------------\u001b[0m",
      "\u001b[0;31mNameError\u001b[0m                                 Traceback (most recent call last)",
      "\u001b[0;32m<ipython-input-3-b3674e172401>\u001b[0m in \u001b[0;36m<module>\u001b[0;34m()\u001b[0m\n\u001b[1;32m      3\u001b[0m \u001b[0;34m\u001b[0m\u001b[0m\n\u001b[1;32m      4\u001b[0m \u001b[0;31m# refine the output\u001b[0m\u001b[0;34m\u001b[0m\u001b[0;34m\u001b[0m\u001b[0;34m\u001b[0m\u001b[0m\n\u001b[0;32m----> 5\u001b[0;31m \u001b[0mout_img\u001b[0m\u001b[0;34m[\u001b[0m\u001b[0mout_img\u001b[0m \u001b[0;34m>\u001b[0m \u001b[0mTHRESHOLD\u001b[0m\u001b[0;34m]\u001b[0m \u001b[0;34m=\u001b[0m \u001b[0;36m1\u001b[0m\u001b[0;34m\u001b[0m\u001b[0;34m\u001b[0m\u001b[0m\n\u001b[0m\u001b[1;32m      6\u001b[0m \u001b[0mout_img\u001b[0m\u001b[0;34m[\u001b[0m\u001b[0mout_img\u001b[0m \u001b[0;34m<=\u001b[0m \u001b[0mTHRESHOLD\u001b[0m\u001b[0;34m]\u001b[0m \u001b[0;34m=\u001b[0m \u001b[0;36m0\u001b[0m\u001b[0;34m\u001b[0m\u001b[0;34m\u001b[0m\u001b[0m\n\u001b[1;32m      7\u001b[0m \u001b[0mplt\u001b[0m\u001b[0;34m.\u001b[0m\u001b[0mimshow\u001b[0m\u001b[0;34m(\u001b[0m\u001b[0mout_img\u001b[0m\u001b[0;34m)\u001b[0m\u001b[0;34m\u001b[0m\u001b[0;34m\u001b[0m\u001b[0m\n",
      "\u001b[0;31mNameError\u001b[0m: name 'out_img' is not defined"
     ]
    }
   ],
   "source": [
    "# define the cutoff threshold below which, background will be removed.\n",
    "THRESHOLD = 0.9\n",
    "\n",
    "# refine the output\n",
    "out_img[out_img > THRESHOLD] = 1\n",
    "out_img[out_img <= THRESHOLD] = 0\n",
    "plt.imshow(out_img)"
   ]
  },
  {
   "cell_type": "code",
   "execution_count": null,
   "metadata": {
    "id": "gM0t_7oijiSi"
   },
   "outputs": [],
   "source": [
    "# convert the rbg image to an rgba image and set the zero values to transparent\n",
    "shape = out_img.shape\n",
    "a_layer_init = np.ones(shape = (shape[0],shape[1],1))\n",
    "mul_layer = np.expand_dims(out_img[:,:,0],axis=2)\n",
    "a_layer = mul_layer*a_layer_init\n",
    "rgba_out = np.append(out_img,a_layer,axis=2)\n",
    "display(Img.fromarray((rgba_out*RESCALE).astype('uint8'), 'RGBA'))"
   ]
  },
  {
   "cell_type": "code",
   "execution_count": null,
   "metadata": {
    "id": "vHFfgSeejlks"
   },
   "outputs": [],
   "source": [
    "# load and convert input to numpy array and rescale(255 for RBG images)\n",
    "input = load_img('/content/U-2-Net/images/'+name+'.png')\n",
    "inp_img = img_to_array(input)\n",
    "inp_img /= RESCALE\n",
    "plt.imshow(inp_img)"
   ]
  },
  {
   "cell_type": "code",
   "execution_count": null,
   "metadata": {
    "id": "OqIoxjAZjnm6"
   },
   "outputs": [],
   "source": [
    "# since the output image is rgba, convert this also to rgba, but with no transparency\n",
    "a_layer = np.ones(shape = (shape[0],shape[1],1))\n",
    "rgba_inp = np.append(inp_img,a_layer,axis=2)\n",
    "plt.imshow(rgba_inp)"
   ]
  },
  {
   "cell_type": "code",
   "execution_count": null,
   "metadata": {
    "id": "eRd8aVlPjrTW"
   },
   "outputs": [],
   "source": [
    "# simply multiply the 2 rgba images to remove the backgound\n",
    "rem_back = (rgba_inp*rgba_out)\n",
    "rem_back_scaled = Img.fromarray((rem_back*RESCALE).astype('uint8'), 'RGBA')\n",
    "display(rem_back_scaled)\n",
    "# --same, but using cv2--\n",
    "#rem_back_cv = rem_back[:,:,[2,1,0,3]]\n",
    "#from google.colab.patches import cv2_imshow\n",
    "#cv2_imshow(rem_back_cv*RESCALE)"
   ]
  },
  {
   "cell_type": "code",
   "execution_count": null,
   "metadata": {
    "id": "GLCv5n5vjs_8"
   },
   "outputs": [],
   "source": [
    "# save the resulting image to colab\n",
    "rem_back_scaled.save(name+'_background_removed.png')"
   ]
  },
  {
   "cell_type": "code",
   "execution_count": null,
   "metadata": {
    "id": "mQ3bSx_qjuyy"
   },
   "outputs": [],
   "source": [
    "# download the result\n",
    "files.download('/content/U-2-Net/'+name+'_background_removed.png')"
   ]
  },
  {
   "cell_type": "markdown",
   "metadata": {
    "id": "CsBeX06UjyLd"
   },
   "source": [
    "# Change Background"
   ]
  },
  {
   "cell_type": "code",
   "execution_count": null,
   "metadata": {
    "id": "scVCXTtskAkm"
   },
   "outputs": [],
   "source": [
    "# get the names of the images that were uploaded, removing .jpg\n",
    "image_dir = os.path.join(os.getcwd(), 'images/backgrounds')\n",
    "backgrounds = [background[:-4] for background in os.listdir(image_dir)]\n",
    "backgrounds"
   ]
  },
  {
   "cell_type": "code",
   "execution_count": null,
   "metadata": {
    "id": "t0c0u0LhkapC"
   },
   "outputs": [],
   "source": [
    "# this notebook only uses the first of the uploaded images\n",
    "background = backgrounds[0] # `black_bg.png`\n",
    "background"
   ]
  },
  {
   "cell_type": "code",
   "execution_count": null,
   "metadata": {
    "id": "C2hNC_4ukelH"
   },
   "outputs": [],
   "source": [
    "# load and convert background to numpy array and rescale(255 for RBG images)\n",
    "background_input = load_img('/content/U-2-Net/images/backgrounds/'+background+'.png')\n",
    "background_inp_img = img_to_array(background_input)\n",
    "background_inp_img /= RESCALE\n",
    "plt.imshow(background_inp_img)"
   ]
  },
  {
   "cell_type": "code",
   "execution_count": null,
   "metadata": {
    "id": "hIzTdZIBk66c"
   },
   "outputs": [],
   "source": [
    "# get dimensions of background (original image will be resized to dimensions of background image in this notebook)\n",
    "background_height = background_inp_img.shape[0]\n",
    "background_width = background_inp_img.shape[1]\n",
    "background_height,background_width"
   ]
  },
  {
   "cell_type": "code",
   "execution_count": null,
   "metadata": {
    "id": "HSrowr05k8Pm"
   },
   "outputs": [],
   "source": [
    "# resize the image\n",
    "resized_rem_back  = resize(rem_back, (background_height,background_width))\n",
    "plt.imshow(resized_rem_back)"
   ]
  },
  {
   "cell_type": "code",
   "execution_count": null,
   "metadata": {
    "id": "S8yMZn3Bk9ho"
   },
   "outputs": [],
   "source": [
    "# create a new array which will store the final result\n",
    "output_chbg = np.zeros((background_height, background_width, 3))\n",
    "output_chbg.shape"
   ]
  },
  {
   "cell_type": "code",
   "execution_count": null,
   "metadata": {
    "id": "r1jMaGjmk9ab"
   },
   "outputs": [],
   "source": [
    "# using the following o[c] = b[c]*(1-i[t])+i[c] {where o - output image, c - channels from 1-3, i - input image with background removed, t - transparent channel}, obtain values for the final result\n",
    "output_chbg[:,:,0] = background_inp_img[:,:,0]*(1-resized_rem_back[:,:,3])+resized_rem_back[:,:,0]\n",
    "output_chbg[:,:,1] = background_inp_img[:,:,1]*(1-resized_rem_back[:,:,3])+resized_rem_back[:,:,1]\n",
    "output_chbg[:,:,2] = background_inp_img[:,:,2]*(1-resized_rem_back[:,:,3])+resized_rem_back[:,:,2]\n",
    "plt.imshow(output_chbg)"
   ]
  },
  {
   "cell_type": "code",
   "execution_count": null,
   "metadata": {
    "id": "xqWc4M7ElD6f"
   },
   "outputs": [],
   "source": [
    "# rescale\n",
    "output_chbg_scaled = Img.fromarray((output_chbg*RESCALE).astype('uint8'), 'RGB')\n",
    "display(output_chbg_scaled)"
   ]
  },
  {
   "cell_type": "code",
   "execution_count": null,
   "metadata": {
    "id": "FKYp4nJGlFps"
   },
   "outputs": [],
   "source": [
    "# save the resulting image to colab\n",
    "output_chbg_scaled.save(name+'_background_changed.png')"
   ]
  }
 ],
 "metadata": {
  "accelerator": "GPU",
  "colab": {
   "name": "final-hackathon.ipynb",
   "provenance": []
  },
  "kernelspec": {
   "display_name": "Python 3",
   "language": "python",
   "name": "python3"
  },
  "language_info": {
   "codemirror_mode": {
    "name": "ipython",
    "version": 3
   },
   "file_extension": ".py",
   "mimetype": "text/x-python",
   "name": "python",
   "nbconvert_exporter": "python",
   "pygments_lexer": "ipython3",
   "version": "3.6.13"
  }
 },
 "nbformat": 4,
 "nbformat_minor": 1
}
